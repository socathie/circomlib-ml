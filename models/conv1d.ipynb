{
 "cells": [
  {
   "cell_type": "code",
   "execution_count": 1,
   "metadata": {},
   "outputs": [],
   "source": [
    "from tensorflow.keras.layers import Input, Conv1D\n",
    "from tensorflow.keras import Model\n",
    "import numpy as np"
   ]
  },
  {
   "cell_type": "code",
   "execution_count": 2,
   "metadata": {},
   "outputs": [],
   "source": [
    "inputs = Input(shape=(20,3))\n",
    "x = Conv1D(2,4,3)(inputs)\n",
    "model = Model(inputs, x)"
   ]
  },
  {
   "cell_type": "code",
   "execution_count": 3,
   "metadata": {},
   "outputs": [
    {
     "name": "stdout",
     "output_type": "stream",
     "text": [
      "Model: \"model\"\n",
      "_________________________________________________________________\n",
      " Layer (type)                Output Shape              Param #   \n",
      "=================================================================\n",
      " input_1 (InputLayer)        [(None, 20, 3)]           0         \n",
      "                                                                 \n",
      " conv1d (Conv1D)             (None, 6, 2)              26        \n",
      "                                                                 \n",
      "=================================================================\n",
      "Total params: 26\n",
      "Trainable params: 26\n",
      "Non-trainable params: 0\n",
      "_________________________________________________________________\n"
     ]
    }
   ],
   "source": [
    "model.summary()"
   ]
  },
  {
   "cell_type": "code",
   "execution_count": 4,
   "metadata": {},
   "outputs": [
    {
     "data": {
      "text/plain": [
       "[<tf.Variable 'conv1d/kernel:0' shape=(4, 3, 2) dtype=float32, numpy=\n",
       " array([[[-0.02601326, -0.3301772 ],\n",
       "         [-0.43577537,  0.15717334],\n",
       "         [-0.4259557 , -0.33559367]],\n",
       " \n",
       "        [[ 0.42399222,  0.37510973],\n",
       "         [ 0.54508114,  0.4104665 ],\n",
       "         [-0.19787505, -0.22848248]],\n",
       " \n",
       "        [[ 0.1666612 ,  0.26736772],\n",
       "         [ 0.27143848, -0.06004363],\n",
       "         [-0.34151512, -0.12771094]],\n",
       " \n",
       "        [[-0.36906815,  0.25710082],\n",
       "         [-0.3379731 ,  0.32230026],\n",
       "         [ 0.4884795 , -0.09015676]]], dtype=float32)>,\n",
       " <tf.Variable 'conv1d/bias:0' shape=(2,) dtype=float32, numpy=array([0., 0.], dtype=float32)>]"
      ]
     },
     "execution_count": 4,
     "metadata": {},
     "output_type": "execute_result"
    }
   ],
   "source": [
    "model.weights"
   ]
  },
  {
   "cell_type": "code",
   "execution_count": 5,
   "metadata": {},
   "outputs": [
    {
     "data": {
      "text/plain": [
       "array([[[0.6559202 , 0.56228804, 0.02962599],\n",
       "        [0.76994812, 0.47743693, 0.5572069 ],\n",
       "        [0.19927724, 0.96605039, 0.34841999],\n",
       "        [0.09700514, 0.46599331, 0.82709989],\n",
       "        [0.31069412, 0.15947317, 0.57927911],\n",
       "        [0.12190963, 0.03995945, 0.06157934],\n",
       "        [0.16758128, 0.04181142, 0.82223711],\n",
       "        [0.0339618 , 0.07949938, 0.4784424 ],\n",
       "        [0.36242002, 0.86249361, 0.81787561],\n",
       "        [0.76752837, 0.14955845, 0.19923647],\n",
       "        [0.75422543, 0.67576628, 0.15690422],\n",
       "        [0.01331625, 0.21074644, 0.65650254],\n",
       "        [0.40707105, 0.56040591, 0.28207027],\n",
       "        [0.97407273, 0.62589764, 0.13727775],\n",
       "        [0.89228633, 0.74312463, 0.03756628],\n",
       "        [0.44731329, 0.90640783, 0.9485793 ],\n",
       "        [0.23960207, 0.34310035, 0.84625871],\n",
       "        [0.41156359, 0.7461549 , 0.90558762],\n",
       "        [0.95574097, 0.12621598, 0.96342998],\n",
       "        [0.65423917, 0.39415099, 0.51843145]]])"
      ]
     },
     "execution_count": 5,
     "metadata": {},
     "output_type": "execute_result"
    }
   ],
   "source": [
    "X = np.random.rand(1,20,3)\n",
    "X"
   ]
  },
  {
   "cell_type": "code",
   "execution_count": 6,
   "metadata": {},
   "outputs": [
    {
     "name": "stdout",
     "output_type": "stream",
     "text": [
      "1/1 [==============================] - 0s 67ms/step\n"
     ]
    },
    {
     "name": "stderr",
     "output_type": "stream",
     "text": [
      "2023-10-22 17:26:08.709261: W tensorflow/tsl/platform/profile_utils/cpu_utils.cc:128] Failed to get CPU frequency: 0 Hz\n"
     ]
    },
    {
     "data": {
      "text/plain": [
       "array([[[ 0.58889425,  0.27067867],\n",
       "        [-0.11806718, -0.18194711],\n",
       "        [-0.6310506 , -0.22040904],\n",
       "        [ 0.12044493,  0.39458114],\n",
       "        [ 0.68157434,  0.96071315],\n",
       "        [-0.6524461 , -0.13708869]]], dtype=float32)"
      ]
     },
     "execution_count": 6,
     "metadata": {},
     "output_type": "execute_result"
    }
   ],
   "source": [
    "y = model.predict(X)\n",
    "y"
   ]
  },
  {
   "cell_type": "code",
   "execution_count": 7,
   "metadata": {},
   "outputs": [
    {
     "data": {
      "text/plain": [
       "(array([[[656, 562,  30],\n",
       "         [770, 477, 557],\n",
       "         [199, 966, 348],\n",
       "         [ 97, 466, 827],\n",
       "         [311, 159, 579],\n",
       "         [122,  40,  62],\n",
       "         [168,  42, 822],\n",
       "         [ 34,  79, 478],\n",
       "         [362, 862, 818],\n",
       "         [768, 150, 199],\n",
       "         [754, 676, 157],\n",
       "         [ 13, 211, 657],\n",
       "         [407, 560, 282],\n",
       "         [974, 626, 137],\n",
       "         [892, 743,  38],\n",
       "         [447, 906, 949],\n",
       "         [240, 343, 846],\n",
       "         [412, 746, 906],\n",
       "         [956, 126, 963],\n",
       "         [654, 394, 518]]]),\n",
       " array([[[ -26, -330],\n",
       "         [-436,  157],\n",
       "         [-426, -336]],\n",
       " \n",
       "        [[ 424,  375],\n",
       "         [ 545,  410],\n",
       "         [-198, -228]],\n",
       " \n",
       "        [[ 167,  267],\n",
       "         [ 271,  -60],\n",
       "         [-342, -128]],\n",
       " \n",
       "        [[-369,  257],\n",
       "         [-338,  322],\n",
       "         [ 488,  -90]]]),\n",
       " array([0, 0]))"
      ]
     },
     "execution_count": 7,
     "metadata": {},
     "output_type": "execute_result"
    }
   ],
   "source": [
    "X_in = (X*1000).round().astype(int)\n",
    "weights = (model.weights[0].numpy()*1000).round().astype(int)\n",
    "bias = np.zeros(model.weights[1].numpy().shape).astype(int)\n",
    "X_in, weights, bias"
   ]
  },
  {
   "cell_type": "code",
   "execution_count": 8,
   "metadata": {},
   "outputs": [
    {
     "name": "stdout",
     "output_type": "stream",
     "text": [
      "1/1 [==============================] - 0s 40ms/step\n"
     ]
    },
    {
     "data": {
      "text/plain": [
       "(array([[[ 587,  270],\n",
       "         [-120, -182],\n",
       "         [-633, -221],\n",
       "         [ 119,  393],\n",
       "         [ 681,  959],\n",
       "         [-655, -138]]]),\n",
       " array([[[569, 178],\n",
       "         [835,  41],\n",
       "         [295, 114],\n",
       "         [699, 614],\n",
       "         [408, 453],\n",
       "         [985, 480]]]))"
      ]
     },
     "execution_count": 8,
     "metadata": {},
     "output_type": "execute_result"
    }
   ],
   "source": [
    "new_model = model\n",
    "new_model.weights[0].assign(weights)\n",
    "res = new_model.predict(X_in).round().astype(int)\n",
    "out = res // 1000\n",
    "remainder = res % 1000\n",
    "out, remainder"
   ]
  },
  {
   "cell_type": "code",
   "execution_count": 9,
   "metadata": {},
   "outputs": [],
   "source": [
    "in_json = {\n",
    "    \"in\": X_in.flatten().tolist(),\n",
    "    \"weights\": weights.flatten().tolist(),\n",
    "    \"bias\": bias.tolist(),\n",
    "    \"out\": out.flatten().tolist(),\n",
    "    \"remainder\": remainder.flatten().tolist()\n",
    "}"
   ]
  },
  {
   "cell_type": "code",
   "execution_count": 10,
   "metadata": {},
   "outputs": [],
   "source": [
    "import json"
   ]
  },
  {
   "cell_type": "code",
   "execution_count": 11,
   "metadata": {},
   "outputs": [],
   "source": [
    "with open(\"conv1D_input.json\", \"w\") as f:\n",
    "    json.dump(in_json, f)"
   ]
  },
  {
   "cell_type": "code",
   "execution_count": null,
   "metadata": {},
   "outputs": [],
   "source": []
  }
 ],
 "metadata": {
  "kernelspec": {
   "display_name": "sklearn",
   "language": "python",
   "name": "python3"
  },
  "language_info": {
   "codemirror_mode": {
    "name": "ipython",
    "version": 3
   },
   "file_extension": ".py",
   "mimetype": "text/x-python",
   "name": "python",
   "nbconvert_exporter": "python",
   "pygments_lexer": "ipython3",
   "version": "3.9.16"
  },
  "orig_nbformat": 4
 },
 "nbformat": 4,
 "nbformat_minor": 2
}
