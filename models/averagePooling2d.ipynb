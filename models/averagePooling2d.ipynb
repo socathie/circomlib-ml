{
 "cells": [
  {
   "cell_type": "code",
   "execution_count": 1,
   "metadata": {},
   "outputs": [],
   "source": [
    "from tensorflow.keras.layers import Input, AveragePooling2D\n",
    "from tensorflow.keras import Model\n",
    "import numpy as np"
   ]
  },
  {
   "cell_type": "code",
   "execution_count": 2,
   "metadata": {},
   "outputs": [],
   "source": [
    "inputs = Input(shape=(5,5,3))\n",
    "x = AveragePooling2D(pool_size=2)(inputs)\n",
    "model = Model(inputs, x)"
   ]
  },
  {
   "cell_type": "code",
   "execution_count": 3,
   "metadata": {},
   "outputs": [
    {
     "name": "stdout",
     "output_type": "stream",
     "text": [
      "Model: \"model\"\n",
      "_________________________________________________________________\n",
      " Layer (type)                Output Shape              Param #   \n",
      "=================================================================\n",
      " input_1 (InputLayer)        [(None, 5, 5, 3)]         0         \n",
      "                                                                 \n",
      " average_pooling2d (AverageP  (None, 2, 2, 3)          0         \n",
      " ooling2D)                                                       \n",
      "                                                                 \n",
      "=================================================================\n",
      "Total params: 0\n",
      "Trainable params: 0\n",
      "Non-trainable params: 0\n",
      "_________________________________________________________________\n"
     ]
    }
   ],
   "source": [
    "model.summary()"
   ]
  },
  {
   "cell_type": "code",
   "execution_count": 4,
   "metadata": {},
   "outputs": [
    {
     "data": {
      "text/plain": [
       "array([[[[  8, 188, 727],\n",
       "         [ 25, 496, 796],\n",
       "         [710, 913, 379],\n",
       "         [150, 426, 202],\n",
       "         [401, 251, 386]],\n",
       "\n",
       "        [[386, 176, 769],\n",
       "         [797, 221, 590],\n",
       "         [587, 814, 720],\n",
       "         [775, 854, 745],\n",
       "         [682, 167, 211]],\n",
       "\n",
       "        [[787,  56, 751],\n",
       "         [518, 593, 852],\n",
       "         [269,  96, 478],\n",
       "         [112,  51, 603],\n",
       "         [954, 399,   6]],\n",
       "\n",
       "        [[455, 610, 699],\n",
       "         [ 48, 907, 522],\n",
       "         [ 67, 684, 839],\n",
       "         [407, 105, 656],\n",
       "         [412, 539, 868]],\n",
       "\n",
       "        [[670,   1, 790],\n",
       "         [859, 644, 904],\n",
       "         [676, 691, 369],\n",
       "         [ 21, 583, 281],\n",
       "         [811, 785, 392]]]])"
      ]
     },
     "execution_count": 4,
     "metadata": {},
     "output_type": "execute_result"
    }
   ],
   "source": [
    "X = (np.random.rand(1,5,5,3)*1000).round().astype(int)\n",
    "X"
   ]
  },
  {
   "cell_type": "code",
   "execution_count": 5,
   "metadata": {},
   "outputs": [
    {
     "name": "stdout",
     "output_type": "stream",
     "text": [
      "1/1 [==============================] - 0s 48ms/step\n"
     ]
    },
    {
     "name": "stderr",
     "output_type": "stream",
     "text": [
      "2023-10-21 22:46:19.213599: W tensorflow/tsl/platform/profile_utils/cpu_utils.cc:128] Failed to get CPU frequency: 0 Hz\n"
     ]
    },
    {
     "data": {
      "text/plain": [
       "array([[[[304.  , 270.25, 720.5 ],\n",
       "         [555.5 , 751.75, 511.5 ]],\n",
       "\n",
       "        [[452.  , 541.5 , 706.  ],\n",
       "         [213.75, 234.  , 644.  ]]]], dtype=float32)"
      ]
     },
     "execution_count": 5,
     "metadata": {},
     "output_type": "execute_result"
    }
   ],
   "source": [
    "y = model.predict(X)\n",
    "y"
   ]
  },
  {
   "cell_type": "code",
   "execution_count": 6,
   "metadata": {},
   "outputs": [
    {
     "data": {
      "text/plain": [
       "array([[[[304, 270, 720],\n",
       "         [555, 751, 511]],\n",
       "\n",
       "        [[452, 541, 706],\n",
       "         [213, 234, 644]]]])"
      ]
     },
     "execution_count": 6,
     "metadata": {},
     "output_type": "execute_result"
    }
   ],
   "source": [
    "out = np.floor(y).astype(int)\n",
    "out"
   ]
  },
  {
   "cell_type": "code",
   "execution_count": 7,
   "metadata": {},
   "outputs": [
    {
     "data": {
      "text/plain": [
       "array([[[[0, 1, 2],\n",
       "         [2, 3, 2]],\n",
       "\n",
       "        [[0, 2, 0],\n",
       "         [3, 0, 0]]]])"
      ]
     },
     "execution_count": 7,
     "metadata": {},
     "output_type": "execute_result"
    }
   ],
   "source": [
    "remainder = (y * 4 - out * 4).round().astype(int)\n",
    "remainder"
   ]
  },
  {
   "cell_type": "code",
   "execution_count": 8,
   "metadata": {},
   "outputs": [],
   "source": [
    "in_json = {\n",
    "    \"in\": X.flatten().tolist(),\n",
    "    \"out\": out.flatten().tolist(),\n",
    "    \"remainder\": remainder.flatten().tolist()\n",
    "}"
   ]
  },
  {
   "cell_type": "code",
   "execution_count": 9,
   "metadata": {},
   "outputs": [],
   "source": [
    "import json"
   ]
  },
  {
   "cell_type": "code",
   "execution_count": 10,
   "metadata": {},
   "outputs": [],
   "source": [
    "with open(\"averagePooling2D_input.json\", \"w\") as f:\n",
    "    json.dump(in_json, f)"
   ]
  },
  {
   "cell_type": "code",
   "execution_count": 11,
   "metadata": {},
   "outputs": [],
   "source": [
    "inputs = Input(shape=(10,10,3))\n",
    "x = AveragePooling2D(pool_size=3, strides=2)(inputs)\n",
    "model = Model(inputs, x)"
   ]
  },
  {
   "cell_type": "code",
   "execution_count": 12,
   "metadata": {},
   "outputs": [
    {
     "name": "stdout",
     "output_type": "stream",
     "text": [
      "Model: \"model_1\"\n",
      "_________________________________________________________________\n",
      " Layer (type)                Output Shape              Param #   \n",
      "=================================================================\n",
      " input_2 (InputLayer)        [(None, 10, 10, 3)]       0         \n",
      "                                                                 \n",
      " average_pooling2d_1 (Averag  (None, 4, 4, 3)          0         \n",
      " ePooling2D)                                                     \n",
      "                                                                 \n",
      "=================================================================\n",
      "Total params: 0\n",
      "Trainable params: 0\n",
      "Non-trainable params: 0\n",
      "_________________________________________________________________\n"
     ]
    }
   ],
   "source": [
    "model.summary()"
   ]
  },
  {
   "cell_type": "code",
   "execution_count": 13,
   "metadata": {},
   "outputs": [
    {
     "data": {
      "text/plain": [
       "array([[[[ 418,  534,  957],\n",
       "         [ 716,  944,  423],\n",
       "         [ 354,  287,  223],\n",
       "         [ 272,  420,  117],\n",
       "         [ 114,  821,  898],\n",
       "         [ 139,  741,  120],\n",
       "         [ 599,  319,  700],\n",
       "         [ 306,  569,  897],\n",
       "         [ 741,  426,  237],\n",
       "         [  96,  903,  933]],\n",
       "\n",
       "        [[ 486,  283,  191],\n",
       "         [ 991,  849,  969],\n",
       "         [ 200,  493,  453],\n",
       "         [ 997,  189,  112],\n",
       "         [ 325,  738,   57],\n",
       "         [ 533,  181,   31],\n",
       "         [ 633,  160,    0],\n",
       "         [ 536,   54,  691],\n",
       "         [ 189,  293,  606],\n",
       "         [ 156,  267,  382]],\n",
       "\n",
       "        [[ 309,   80,  760],\n",
       "         [ 628,  865,  904],\n",
       "         [ 867,  949,  533],\n",
       "         [ 698,  584,  818],\n",
       "         [ 715,  905,  185],\n",
       "         [ 482,   28,  848],\n",
       "         [ 887,  290,  186],\n",
       "         [ 543,   76,  685],\n",
       "         [  86,  445,  781],\n",
       "         [ 650,  731,  130]],\n",
       "\n",
       "        [[ 171,  501,  211],\n",
       "         [ 241,  928,  213],\n",
       "         [  76,  232,  725],\n",
       "         [  83,  646,  726],\n",
       "         [ 410,  498,  400],\n",
       "         [ 213,  664,  244],\n",
       "         [ 311,  704,  214],\n",
       "         [ 344,  722,  300],\n",
       "         [ 942,  855,  844],\n",
       "         [  15,  194,  245]],\n",
       "\n",
       "        [[ 976,   55,   22],\n",
       "         [ 441,  758,  579],\n",
       "         [ 139,  410,  552],\n",
       "         [ 458,  661,  396],\n",
       "         [ 559,  295,  917],\n",
       "         [  30,  520,   12],\n",
       "         [ 837,  762,  101],\n",
       "         [ 972,   91,  489],\n",
       "         [  42,  101,  813],\n",
       "         [1000,  129,   35]],\n",
       "\n",
       "        [[ 237,  844,  527],\n",
       "         [ 270,  980,  808],\n",
       "         [ 430,  872,  252],\n",
       "         [ 984,  763,  139],\n",
       "         [ 105,  744,  380],\n",
       "         [ 853,  866,  504],\n",
       "         [ 217,  400,  530],\n",
       "         [ 455,  683,  324],\n",
       "         [ 479,  244,  570],\n",
       "         [ 553,  765,  722]],\n",
       "\n",
       "        [[ 715,   19,  795],\n",
       "         [ 798,  657,   66],\n",
       "         [ 858,  936,  477],\n",
       "         [ 998,  329,  881],\n",
       "         [ 284,  602,  285],\n",
       "         [  50,    1,  732],\n",
       "         [ 776,  118,  941],\n",
       "         [ 308,  993,  495],\n",
       "         [  98,  819,  366],\n",
       "         [ 744,  691,  158]],\n",
       "\n",
       "        [[ 557,  386,   77],\n",
       "         [ 228,   36,  958],\n",
       "         [ 962,  993,  731],\n",
       "         [ 407,  913,  159],\n",
       "         [ 249,  614,  754],\n",
       "         [ 918,  483,  919],\n",
       "         [ 580,  444,  877],\n",
       "         [ 768,  480,  540],\n",
       "         [ 876,  340,  536],\n",
       "         [ 137,  880,  499]],\n",
       "\n",
       "        [[ 568,  769,  119],\n",
       "         [ 755,  347,  817],\n",
       "         [ 658,  915,  784],\n",
       "         [ 366,  668,  679],\n",
       "         [  13,  842,  678],\n",
       "         [ 137,   33,  685],\n",
       "         [ 821,  519,  450],\n",
       "         [ 163,  967,  656],\n",
       "         [ 341,  623,  416],\n",
       "         [ 881,  756,  371]],\n",
       "\n",
       "        [[ 569,   25,  105],\n",
       "         [  97,   87,  743],\n",
       "         [ 919,  717,  470],\n",
       "         [ 920,  162,  603],\n",
       "         [ 723,   14,   96],\n",
       "         [ 737,  111,  795],\n",
       "         [ 543,  634,  860],\n",
       "         [ 462,   81,  973],\n",
       "         [ 833,  861,   37],\n",
       "         [ 736,  262,  880]]]])"
      ]
     },
     "execution_count": 13,
     "metadata": {},
     "output_type": "execute_result"
    }
   ],
   "source": [
    "X = (np.random.rand(1,10,10,3)*1000).round().astype(int)\n",
    "X"
   ]
  },
  {
   "cell_type": "code",
   "execution_count": 14,
   "metadata": {},
   "outputs": [
    {
     "name": "stdout",
     "output_type": "stream",
     "text": [
      "1/1 [==============================] - 0s 30ms/step\n"
     ]
    },
    {
     "data": {
      "text/plain": [
       "array([[[[552.1111 , 587.1111 , 601.44446],\n",
       "         [504.66666, 598.44446, 377.33334],\n",
       "         [491.8889 , 464.77777, 336.1111 ],\n",
       "         [502.22223, 292.44446, 531.44446]],\n",
       "\n",
       "        [[427.55554, 530.8889 , 499.8889 ],\n",
       "         [445.     , 575.55554, 583.55554],\n",
       "         [493.77777, 518.44446, 345.22223],\n",
       "         [551.55554, 449.55554, 490.33334]],\n",
       "\n",
       "        [[540.44446, 614.55554, 453.1111 ],\n",
       "         [535.     , 623.55554, 475.44446],\n",
       "         [412.33334, 478.66666, 489.1111 ],\n",
       "         [464.8889 , 467.8889 , 514.3333 ]],\n",
       "\n",
       "        [[677.6667 , 562.     , 536.     ],\n",
       "         [532.7778 , 756.8889 , 603.1111 ],\n",
       "         [425.33334, 406.22223, 702.3333 ],\n",
       "         [525.6667 , 589.2222 , 586.3333 ]]]], dtype=float32)"
      ]
     },
     "execution_count": 14,
     "metadata": {},
     "output_type": "execute_result"
    }
   ],
   "source": [
    "y = model.predict(X)\n",
    "y"
   ]
  },
  {
   "cell_type": "code",
   "execution_count": 15,
   "metadata": {},
   "outputs": [
    {
     "data": {
      "text/plain": [
       "array([[[[552, 587, 601],\n",
       "         [504, 598, 377],\n",
       "         [491, 464, 336],\n",
       "         [502, 292, 531]],\n",
       "\n",
       "        [[427, 530, 499],\n",
       "         [445, 575, 583],\n",
       "         [493, 518, 345],\n",
       "         [551, 449, 490]],\n",
       "\n",
       "        [[540, 614, 453],\n",
       "         [535, 623, 475],\n",
       "         [412, 478, 489],\n",
       "         [464, 467, 514]],\n",
       "\n",
       "        [[677, 562, 536],\n",
       "         [532, 756, 603],\n",
       "         [425, 406, 702],\n",
       "         [525, 589, 586]]]])"
      ]
     },
     "execution_count": 15,
     "metadata": {},
     "output_type": "execute_result"
    }
   ],
   "source": [
    "out = np.floor(y).astype(int)\n",
    "out"
   ]
  },
  {
   "cell_type": "code",
   "execution_count": 16,
   "metadata": {},
   "outputs": [
    {
     "data": {
      "text/plain": [
       "array([[[[1, 1, 4],\n",
       "         [6, 4, 3],\n",
       "         [8, 7, 1],\n",
       "         [2, 4, 4]],\n",
       "\n",
       "        [[5, 8, 8],\n",
       "         [0, 5, 5],\n",
       "         [7, 4, 2],\n",
       "         [5, 5, 3]],\n",
       "\n",
       "        [[4, 5, 1],\n",
       "         [0, 5, 4],\n",
       "         [3, 6, 1],\n",
       "         [8, 8, 3]],\n",
       "\n",
       "        [[6, 0, 0],\n",
       "         [7, 8, 1],\n",
       "         [3, 2, 3],\n",
       "         [6, 2, 3]]]])"
      ]
     },
     "execution_count": 16,
     "metadata": {},
     "output_type": "execute_result"
    }
   ],
   "source": [
    "remainder = (y * 9 - out * 9).round().astype(int)\n",
    "remainder"
   ]
  },
  {
   "cell_type": "code",
   "execution_count": 17,
   "metadata": {},
   "outputs": [],
   "source": [
    "in_json = {\n",
    "    \"in\": X.flatten().tolist(),\n",
    "    \"out\": out.flatten().tolist(),\n",
    "    \"remainder\": remainder.flatten().tolist()\n",
    "}"
   ]
  },
  {
   "cell_type": "code",
   "execution_count": 18,
   "metadata": {},
   "outputs": [],
   "source": [
    "with open(\"averagePooling2D_stride_input.json\", \"w\") as f:\n",
    "    json.dump(in_json, f)"
   ]
  },
  {
   "cell_type": "code",
   "execution_count": null,
   "metadata": {},
   "outputs": [],
   "source": []
  }
 ],
 "metadata": {
  "kernelspec": {
   "display_name": "sklearn",
   "language": "python",
   "name": "python3"
  },
  "language_info": {
   "codemirror_mode": {
    "name": "ipython",
    "version": 3
   },
   "file_extension": ".py",
   "mimetype": "text/x-python",
   "name": "python",
   "nbconvert_exporter": "python",
   "pygments_lexer": "ipython3",
   "version": "3.9.16"
  },
  "orig_nbformat": 4
 },
 "nbformat": 4,
 "nbformat_minor": 2
}
